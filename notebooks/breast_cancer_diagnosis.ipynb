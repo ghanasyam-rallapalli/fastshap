{
 "cells": [
  {
   "cell_type": "markdown",
   "id": "engaged-interference",
   "metadata": {},
   "source": [
    "# Load data"
   ]
  },
  {
   "cell_type": "code",
   "execution_count": 1,
   "id": "a2fbd37e",
   "metadata": {},
   "outputs": [],
   "source": [
    "from IPython.core.interactiveshell import InteractiveShell\n",
    "InteractiveShell.ast_node_interactivity = \"all\""
   ]
  },
  {
   "cell_type": "code",
   "execution_count": 2,
   "id": "hungry-jaguar",
   "metadata": {},
   "outputs": [],
   "source": [
    "import shap  # https://github.com/slundberg/shap\n",
    "import pickle\n",
    "import random\n",
    "import shapreg  # https://github.com/iancovert/shapley-regression\n",
    "import numpy as np\n",
    "import pandas as pd\n",
    "import matplotlib.pyplot as plt\n",
    "\n",
    "from pathlib import Path\n",
    "from sklearn.preprocessing import StandardScaler\n",
    "from sklearn.model_selection import train_test_split\n",
    "from sklearn.ensemble import GradientBoostingClassifier\n",
    "from sklearn.metrics import accuracy_score, classification_report"
   ]
  },
  {
   "cell_type": "markdown",
   "id": "e4fdd602",
   "metadata": {},
   "source": [
    "### Breast Cancer Wisconsin (Diagnostic) Data Set\n",
    "\n",
    "[Data source](https://archive.ics.uci.edu/ml/datasets/Breast+Cancer+Wisconsin+%28Diagnostic%29)\n",
    "\n",
    "[data file](https://archive.ics.uci.edu/ml/machine-learning-databases/breast-cancer-wisconsin/wdbc.data)\n",
    "\n",
    "[feature info](https://archive.ics.uci.edu/ml/machine-learning-databases/breast-cancer-wisconsin/wdbc.names)\n",
    "\n",
    "\n",
    "#### Info about features\n",
    "5. Number of instances: 569 \n",
    "\n",
    "6. Number of attributes: 32 (ID, diagnosis, 30 real-valued input features)\n",
    "\n",
    "7. Attribute information\n",
    "\n",
    "1) ID number\n",
    "2) Diagnosis (M = malignant, B = benign)\n",
    "3-32)\n",
    "\n",
    "Ten real-valued features are computed for each cell nucleus:\n",
    "\n",
    "\ta) radius (mean of distances from center to points on the perimeter)\n",
    "\tb) texture (standard deviation of gray-scale values)\n",
    "\tc) perimeter\n",
    "\td) area\n",
    "\te) smoothness (local variation in radius lengths)\n",
    "\tf) compactness (perimeter^2 / area - 1.0)\n",
    "\tg) concavity (severity of concave portions of the contour)\n",
    "\th) concave points (number of concave portions of the contour)\n",
    "\ti) symmetry \n",
    "\tj) fractal dimension (\"coastline approximation\" - 1)\n",
    "\n",
    "Several of the papers listed above contain detailed descriptions of\n",
    "how these features are computed. \n",
    "\n",
    "The mean, standard error, and \"worst\" or largest (mean of the three\n",
    "largest values) of these features were computed for each image,\n",
    "resulting in 30 features.  For instance, field 3 is Mean Radius, field\n",
    "13 is Radius SE, field 23 is Worst Radius.\n",
    "\n",
    "All feature values are recoded with four significant digits.\n",
    "\n",
    "8. Missing attribute values: none\n",
    "\n",
    "9. Class distribution: 357 benign, 212 malignant"
   ]
  },
  {
   "cell_type": "code",
   "execution_count": 3,
   "id": "adeeb779",
   "metadata": {},
   "outputs": [
    {
     "data": {
      "text/plain": [
       "(569, 32)"
      ]
     },
     "execution_count": 3,
     "metadata": {},
     "output_type": "execute_result"
    },
    {
     "data": {
      "text/html": [
       "<div>\n",
       "<style scoped>\n",
       "    .dataframe tbody tr th:only-of-type {\n",
       "        vertical-align: middle;\n",
       "    }\n",
       "\n",
       "    .dataframe tbody tr th {\n",
       "        vertical-align: top;\n",
       "    }\n",
       "\n",
       "    .dataframe thead th {\n",
       "        text-align: right;\n",
       "    }\n",
       "</style>\n",
       "<table border=\"1\" class=\"dataframe\">\n",
       "  <thead>\n",
       "    <tr style=\"text-align: right;\">\n",
       "      <th></th>\n",
       "      <th>ID</th>\n",
       "      <th>Dignosis</th>\n",
       "      <th>radius_mean</th>\n",
       "      <th>texture_mean</th>\n",
       "      <th>perimeter_mean</th>\n",
       "      <th>area_mean</th>\n",
       "      <th>smoothness_mean</th>\n",
       "      <th>compactness_mean</th>\n",
       "      <th>concavity_mean</th>\n",
       "      <th>concave_points_mean</th>\n",
       "      <th>...</th>\n",
       "      <th>radius_worst</th>\n",
       "      <th>texture_worst</th>\n",
       "      <th>perimeter_worst</th>\n",
       "      <th>area_worst</th>\n",
       "      <th>smoothness_worst</th>\n",
       "      <th>compactness_worst</th>\n",
       "      <th>concavity_worst</th>\n",
       "      <th>concave_points_worst</th>\n",
       "      <th>symmetry_worst</th>\n",
       "      <th>fractal_dimension_worst</th>\n",
       "    </tr>\n",
       "  </thead>\n",
       "  <tbody>\n",
       "    <tr>\n",
       "      <th>0</th>\n",
       "      <td>842302</td>\n",
       "      <td>M</td>\n",
       "      <td>17.99</td>\n",
       "      <td>10.38</td>\n",
       "      <td>122.80</td>\n",
       "      <td>1001.0</td>\n",
       "      <td>0.11840</td>\n",
       "      <td>0.27760</td>\n",
       "      <td>0.3001</td>\n",
       "      <td>0.14710</td>\n",
       "      <td>...</td>\n",
       "      <td>25.38</td>\n",
       "      <td>17.33</td>\n",
       "      <td>184.60</td>\n",
       "      <td>2019.0</td>\n",
       "      <td>0.1622</td>\n",
       "      <td>0.6656</td>\n",
       "      <td>0.7119</td>\n",
       "      <td>0.2654</td>\n",
       "      <td>0.4601</td>\n",
       "      <td>0.11890</td>\n",
       "    </tr>\n",
       "    <tr>\n",
       "      <th>1</th>\n",
       "      <td>842517</td>\n",
       "      <td>M</td>\n",
       "      <td>20.57</td>\n",
       "      <td>17.77</td>\n",
       "      <td>132.90</td>\n",
       "      <td>1326.0</td>\n",
       "      <td>0.08474</td>\n",
       "      <td>0.07864</td>\n",
       "      <td>0.0869</td>\n",
       "      <td>0.07017</td>\n",
       "      <td>...</td>\n",
       "      <td>24.99</td>\n",
       "      <td>23.41</td>\n",
       "      <td>158.80</td>\n",
       "      <td>1956.0</td>\n",
       "      <td>0.1238</td>\n",
       "      <td>0.1866</td>\n",
       "      <td>0.2416</td>\n",
       "      <td>0.1860</td>\n",
       "      <td>0.2750</td>\n",
       "      <td>0.08902</td>\n",
       "    </tr>\n",
       "    <tr>\n",
       "      <th>2</th>\n",
       "      <td>84300903</td>\n",
       "      <td>M</td>\n",
       "      <td>19.69</td>\n",
       "      <td>21.25</td>\n",
       "      <td>130.00</td>\n",
       "      <td>1203.0</td>\n",
       "      <td>0.10960</td>\n",
       "      <td>0.15990</td>\n",
       "      <td>0.1974</td>\n",
       "      <td>0.12790</td>\n",
       "      <td>...</td>\n",
       "      <td>23.57</td>\n",
       "      <td>25.53</td>\n",
       "      <td>152.50</td>\n",
       "      <td>1709.0</td>\n",
       "      <td>0.1444</td>\n",
       "      <td>0.4245</td>\n",
       "      <td>0.4504</td>\n",
       "      <td>0.2430</td>\n",
       "      <td>0.3613</td>\n",
       "      <td>0.08758</td>\n",
       "    </tr>\n",
       "    <tr>\n",
       "      <th>3</th>\n",
       "      <td>84348301</td>\n",
       "      <td>M</td>\n",
       "      <td>11.42</td>\n",
       "      <td>20.38</td>\n",
       "      <td>77.58</td>\n",
       "      <td>386.1</td>\n",
       "      <td>0.14250</td>\n",
       "      <td>0.28390</td>\n",
       "      <td>0.2414</td>\n",
       "      <td>0.10520</td>\n",
       "      <td>...</td>\n",
       "      <td>14.91</td>\n",
       "      <td>26.50</td>\n",
       "      <td>98.87</td>\n",
       "      <td>567.7</td>\n",
       "      <td>0.2098</td>\n",
       "      <td>0.8663</td>\n",
       "      <td>0.6869</td>\n",
       "      <td>0.2575</td>\n",
       "      <td>0.6638</td>\n",
       "      <td>0.17300</td>\n",
       "    </tr>\n",
       "    <tr>\n",
       "      <th>4</th>\n",
       "      <td>84358402</td>\n",
       "      <td>M</td>\n",
       "      <td>20.29</td>\n",
       "      <td>14.34</td>\n",
       "      <td>135.10</td>\n",
       "      <td>1297.0</td>\n",
       "      <td>0.10030</td>\n",
       "      <td>0.13280</td>\n",
       "      <td>0.1980</td>\n",
       "      <td>0.10430</td>\n",
       "      <td>...</td>\n",
       "      <td>22.54</td>\n",
       "      <td>16.67</td>\n",
       "      <td>152.20</td>\n",
       "      <td>1575.0</td>\n",
       "      <td>0.1374</td>\n",
       "      <td>0.2050</td>\n",
       "      <td>0.4000</td>\n",
       "      <td>0.1625</td>\n",
       "      <td>0.2364</td>\n",
       "      <td>0.07678</td>\n",
       "    </tr>\n",
       "  </tbody>\n",
       "</table>\n",
       "<p>5 rows × 32 columns</p>\n",
       "</div>"
      ],
      "text/plain": [
       "         ID Dignosis  radius_mean  texture_mean  perimeter_mean  area_mean  \\\n",
       "0    842302        M        17.99         10.38          122.80     1001.0   \n",
       "1    842517        M        20.57         17.77          132.90     1326.0   \n",
       "2  84300903        M        19.69         21.25          130.00     1203.0   \n",
       "3  84348301        M        11.42         20.38           77.58      386.1   \n",
       "4  84358402        M        20.29         14.34          135.10     1297.0   \n",
       "\n",
       "   smoothness_mean  compactness_mean  concavity_mean  concave_points_mean  \\\n",
       "0          0.11840           0.27760          0.3001              0.14710   \n",
       "1          0.08474           0.07864          0.0869              0.07017   \n",
       "2          0.10960           0.15990          0.1974              0.12790   \n",
       "3          0.14250           0.28390          0.2414              0.10520   \n",
       "4          0.10030           0.13280          0.1980              0.10430   \n",
       "\n",
       "   ...  radius_worst  texture_worst  perimeter_worst  area_worst  \\\n",
       "0  ...         25.38          17.33           184.60      2019.0   \n",
       "1  ...         24.99          23.41           158.80      1956.0   \n",
       "2  ...         23.57          25.53           152.50      1709.0   \n",
       "3  ...         14.91          26.50            98.87       567.7   \n",
       "4  ...         22.54          16.67           152.20      1575.0   \n",
       "\n",
       "   smoothness_worst  compactness_worst  concavity_worst  concave_points_worst  \\\n",
       "0            0.1622             0.6656           0.7119                0.2654   \n",
       "1            0.1238             0.1866           0.2416                0.1860   \n",
       "2            0.1444             0.4245           0.4504                0.2430   \n",
       "3            0.2098             0.8663           0.6869                0.2575   \n",
       "4            0.1374             0.2050           0.4000                0.1625   \n",
       "\n",
       "   symmetry_worst  fractal_dimension_worst  \n",
       "0          0.4601                  0.11890  \n",
       "1          0.2750                  0.08902  \n",
       "2          0.3613                  0.08758  \n",
       "3          0.6638                  0.17300  \n",
       "4          0.2364                  0.07678  \n",
       "\n",
       "[5 rows x 32 columns]"
      ]
     },
     "execution_count": 3,
     "metadata": {},
     "output_type": "execute_result"
    },
    {
     "data": {
      "text/plain": [
       "B    357\n",
       "M    212\n",
       "Name: Dignosis, dtype: int64"
      ]
     },
     "execution_count": 3,
     "metadata": {},
     "output_type": "execute_result"
    }
   ],
   "source": [
    "random_seed = 1234\n",
    "random.seed(random_seed)\n",
    "dataset_folder = Path(\"../../../datasets/breast_cancer_data/\")\n",
    "\n",
    "datapoint_names = [\"radius\", \"texture\", \"perimeter\", \"area\", \"smoothness\", \"compactness\",\n",
    "              \"concavity\", \"concave_points\", \"symmetry\", \"fractal_dimension\"]\n",
    "\n",
    "col_names = [\"ID\", \"Dignosis\"] + [item+\"_mean\" for item in datapoint_names] + \\\n",
    "            [item+\"_se\" for item in datapoint_names]+ [item+\"_worst\" for item in datapoint_names]\n",
    "\n",
    "df = pd.read_csv(dataset_folder / \"wdbc.data\", header=None)\n",
    "df.columns = col_names\n",
    "df.shape\n",
    "df.head()\n",
    "df[\"Dignosis\"].value_counts()\n"
   ]
  },
  {
   "cell_type": "code",
   "execution_count": 4,
   "id": "1e377d99",
   "metadata": {},
   "outputs": [
    {
     "data": {
      "text/plain": [
       "StandardScaler()"
      ]
     },
     "execution_count": 4,
     "metadata": {},
     "output_type": "execute_result"
    }
   ],
   "source": [
    "x = df.drop([\"ID\", \"Dignosis\"], axis=1)\n",
    "ss = StandardScaler()\n",
    "ss.fit(x)\n",
    "x_ss = ss.transform(x.values)\n",
    "y = df[\"Dignosis\"].replace({\"M\":1, \"B\":0}).values\n",
    "\n",
    "num_features = x.shape[1]\n",
    "feature_names = x.columns.tolist()\n",
    "\n",
    "X_train, X_test, Y_train, Y_test = train_test_split(x_ss, y, test_size=0.1, random_state=random_seed)\n",
    "X_trn, X_val, Y_trn, Y_val = train_test_split(X_train, Y_train, test_size=0.1, random_state=0)"
   ]
  },
  {
   "cell_type": "markdown",
   "id": "public-citizen",
   "metadata": {},
   "source": [
    "# Train model"
   ]
  },
  {
   "cell_type": "code",
   "execution_count": 5,
   "id": "e9585adf",
   "metadata": {},
   "outputs": [
    {
     "name": "stdout",
     "output_type": "stream",
     "text": [
      "Loading saved model\n",
      "The model type: GradientBoostingClassifier\n",
      "The model performance for testing set\n",
      "--------------------------------------\n",
      "accuracy 0.8947368421052632\n",
      "Report               precision    recall  f1-score   support\n",
      "\n",
      "           0       0.90      0.95      0.92        37\n",
      "           1       0.89      0.80      0.84        20\n",
      "\n",
      "    accuracy                           0.89        57\n",
      "   macro avg       0.89      0.87      0.88        57\n",
      "weighted avg       0.89      0.89      0.89        57\n",
      "\n"
     ]
    }
   ],
   "source": [
    "model_file = Path(\"breast_diagnosis_model.pkl\")\n",
    "if model_file.is_file():\n",
    "    print(\"Loading saved model\")\n",
    "    with open(model_file, \"rb\") as f:\n",
    "        model = pickle.load(f)\n",
    "\n",
    "else:\n",
    "    model = GradientBoostingClassifier(n_estimators=1000,\n",
    "                                       validation_fraction=0.2,\n",
    "                                       n_iter_no_change=10, tol=0.01,\n",
    "                                       random_state=random_seed)\n",
    "    model.fit(X_train, Y_train)\n",
    "\n",
    "    # Save model\n",
    "    with open(model_file, \"wb\") as f:\n",
    "        pickle.dump(model, f)\n",
    "        \n",
    "# model evaluation for testing set\n",
    "print(f\"The model type: {model.__class__.__name__}\")\n",
    "print(\"The model performance for testing set\")\n",
    "print(\"--------------------------------------\")\n",
    "y_predicted = model.predict(X_test)\n",
    "print('accuracy {}'.format(accuracy_score(Y_test, y_predicted)))\n",
    "print('Report {}'.format(classification_report(Y_test, y_predicted)))"
   ]
  },
  {
   "cell_type": "markdown",
   "id": "renewable-setup",
   "metadata": {},
   "source": [
    "# Train surrogate"
   ]
  },
  {
   "cell_type": "code",
   "execution_count": 6,
   "id": "buried-creek",
   "metadata": {},
   "outputs": [],
   "source": [
    "import torch\n",
    "import torch.nn as nn\n",
    "from fastshap.utils import MaskLayer1d\n",
    "from fastshap import Surrogate, KLDivLoss"
   ]
  },
  {
   "cell_type": "code",
   "execution_count": 7,
   "id": "welcome-banana",
   "metadata": {},
   "outputs": [],
   "source": [
    "# Select device\n",
    "device = torch.device(\"cpu\")"
   ]
  },
  {
   "cell_type": "code",
   "execution_count": 8,
   "id": "early-courage",
   "metadata": {},
   "outputs": [
    {
     "name": "stdout",
     "output_type": "stream",
     "text": [
      "Loading saved surrogate model\n"
     ]
    }
   ],
   "source": [
    "# Check for surrogate model\n",
    "surrogate_file = Path(\"breast_diagnosis_surrogate.pt\")\n",
    "if surrogate_file.is_file():\n",
    "    print('Loading saved surrogate model')\n",
    "    surr = torch.load(surrogate_file).to(device)\n",
    "    surrogate = Surrogate(surr, num_features)\n",
    "\n",
    "else:\n",
    "    # Create surrogate model\n",
    "    surr = nn.Sequential(\n",
    "        MaskLayer1d(value=0, append=True),\n",
    "        nn.Linear(2 * num_features, 128),\n",
    "        nn.ELU(inplace=True),\n",
    "        nn.Linear(128, 128),\n",
    "        nn.ELU(inplace=True),\n",
    "        nn.Linear(128, 2)).to(device)\n",
    "\n",
    "    # Set up surrogate object\n",
    "    surrogate = Surrogate(surr, num_features)\n",
    "\n",
    "    # Set up original model\n",
    "    def original_model(x):\n",
    "        pred = model.predict(x.cpu().numpy())\n",
    "        pred = np.stack([1 - pred, pred]).T\n",
    "        return torch.tensor(pred, dtype=torch.float32, device=x.device)\n",
    "\n",
    "    # Train\n",
    "    surrogate.train_original_model(\n",
    "        X_trn,\n",
    "        X_val,\n",
    "        original_model,\n",
    "        batch_size=64,\n",
    "        max_epochs=100,\n",
    "        loss_fn=KLDivLoss(),\n",
    "        validation_samples=10,\n",
    "        validation_batch_size=10000,\n",
    "        verbose=True)\n",
    "\n",
    "    # Save surrogate\n",
    "    surr.cpu()\n",
    "    torch.save(surr, surrogate_file)\n",
    "    surr.to(device)"
   ]
  },
  {
   "cell_type": "markdown",
   "id": "modern-nightlife",
   "metadata": {},
   "source": [
    "# Train FastSHAP"
   ]
  },
  {
   "cell_type": "code",
   "execution_count": 9,
   "id": "active-regression",
   "metadata": {},
   "outputs": [],
   "source": [
    "from fastshap import FastSHAP"
   ]
  },
  {
   "cell_type": "code",
   "execution_count": 10,
   "id": "compressed-amino",
   "metadata": {},
   "outputs": [
    {
     "name": "stdout",
     "output_type": "stream",
     "text": [
      "Loading saved explainer model\n"
     ]
    }
   ],
   "source": [
    "# Check for explainer model\n",
    "explainer_file = Path(\"breast_diagnosis_explainer.pt\")\n",
    "if explainer_file.is_file():\n",
    "    print('Loading saved explainer model')\n",
    "    explainer = torch.load(explainer_file).to(device)\n",
    "    fastshap = FastSHAP(explainer, surrogate, normalization='additive',\n",
    "                        link=nn.Softmax(dim=-1))\n",
    "\n",
    "else:\n",
    "    # Create explainer model\n",
    "    explainer = nn.Sequential(\n",
    "        nn.Linear(num_features, 128),\n",
    "        nn.ReLU(inplace=True),\n",
    "        nn.Linear(128, 128),\n",
    "        nn.ReLU(inplace=True),\n",
    "        nn.Linear(128, 2 * num_features)).to(device)\n",
    "\n",
    "    # Set up FastSHAP object\n",
    "    fastshap = FastSHAP(explainer, surrogate, normalization='additive',\n",
    "                        link=nn.Softmax(dim=-1))\n",
    "\n",
    "    # Train\n",
    "    fastshap.train(\n",
    "        X_trn,\n",
    "        X_val,\n",
    "        batch_size=32,\n",
    "        num_samples=32,\n",
    "        max_epochs=200,\n",
    "        validation_samples=128,\n",
    "        verbose=True)\n",
    "    \n",
    "    # Save explainer\n",
    "    explainer.cpu()\n",
    "    torch.save(explainer, explainer_file)\n",
    "    explainer.to(device)"
   ]
  },
  {
   "cell_type": "markdown",
   "id": "referenced-sacramento",
   "metadata": {},
   "source": [
    "# Compare with KernelSHAP"
   ]
  },
  {
   "cell_type": "code",
   "execution_count": 11,
   "id": "structured-messenger",
   "metadata": {},
   "outputs": [],
   "source": [
    "# Setup for KernelSHAP\n",
    "def imputer(x, S):\n",
    "    x = torch.tensor(x, dtype=torch.float32, device=device)\n",
    "    S = torch.tensor(S, dtype=torch.float32, device=device)\n",
    "    pred = surrogate(x, S).softmax(dim=-1)\n",
    "    return pred.cpu().data.numpy()"
   ]
  },
  {
   "cell_type": "code",
   "execution_count": 12,
   "id": "ce11a20e",
   "metadata": {},
   "outputs": [
    {
     "data": {
      "text/plain": [
       "9"
      ]
     },
     "execution_count": 12,
     "metadata": {},
     "output_type": "execute_result"
    },
    {
     "data": {
      "text/plain": [
       "1"
      ]
     },
     "execution_count": 12,
     "metadata": {},
     "output_type": "execute_result"
    }
   ],
   "source": [
    "# Select example\n",
    "ind = np.random.choice(len(X_test))\n",
    "# ind = 15\n",
    "ind\n",
    "\n",
    "x = X_test[ind:ind+1]\n",
    "y = int(Y_test[ind])\n",
    "y"
   ]
  },
  {
   "cell_type": "code",
   "execution_count": 13,
   "id": "f14971a6",
   "metadata": {},
   "outputs": [],
   "source": [
    "# Run FastSHAP\n",
    "fastshap_values = fastshap.shap_values(x)[0]"
   ]
  },
  {
   "cell_type": "code",
   "execution_count": 14,
   "id": "intellectual-zoning",
   "metadata": {},
   "outputs": [
    {
     "data": {
      "application/vnd.jupyter.widget-view+json": {
       "model_id": "8bce0067247b4330ac1ca9ec8dfbb9e7",
       "version_major": 2,
       "version_minor": 0
      },
      "text/plain": [
       "  0%|          | 0/1 [00:00<?, ?it/s]"
      ]
     },
     "metadata": {},
     "output_type": "display_data"
    }
   ],
   "source": [
    "# Run KernelSHAP to convergence\n",
    "game = shapreg.games.PredictionGame(imputer, x)\n",
    "shap_values, all_results = shapreg.shapley.ShapleyRegression(\n",
    "    game, batch_size=32, paired_sampling=False, detect_convergence=True,\n",
    "    bar=True, return_all=True)"
   ]
  },
  {
   "cell_type": "code",
   "execution_count": 17,
   "id": "51363075",
   "metadata": {},
   "outputs": [
    {
     "data": {
      "application/vnd.jupyter.widget-view+json": {
       "model_id": "e3d9813d707e4684b0103a3ad3de9051",
       "version_major": 2,
       "version_minor": 0
      },
      "text/plain": [
       "  0%|          | 0/1 [00:00<?, ?it/s]"
      ]
     },
     "metadata": {},
     "output_type": "display_data"
    },
    {
     "name": "stdout",
     "output_type": "stream",
     "text": [
      "CPU times: user 1.33 s, sys: 140 ms, total: 1.47 s\n",
      "Wall time: 602 ms\n"
     ]
    }
   ],
   "source": [
    "%%time\n",
    "# origial SHAP https://github.com/slundberg/shap\n",
    "orig_explainer = shap.KernelExplainer(model.predict, shap.kmeans(X_trn, 20))\n",
    "orig_shap_values = orig_explainer.shap_values(x, nsamples=5000)"
   ]
  },
  {
   "cell_type": "code",
   "execution_count": 24,
   "id": "devoted-jenny",
   "metadata": {},
   "outputs": [
    {
     "data": {
      "image/png": "[encoded data removed]",
      "text/plain": [
       "<Figure size 720x1296 with 1 Axes>"
      ]
     },
     "metadata": {
      "needs_background": "light"
     },
     "output_type": "display_data"
    }
   ],
   "source": [
    "# Create figure\n",
    "_ = plt.figure(figsize=(10, 18))\n",
    "\n",
    "# Bar chart\n",
    "width = 0.8\n",
    "bar_width = width/4\n",
    "kernelshap_iters = 128\n",
    "kernel_shap_values = all_results['values'][list(all_results['iters']).index(kernelshap_iters)][:, y]\n",
    "\n",
    "_ = plt.barh(np.arange(num_features) + bar_width*1, shap_values.values[:, y], xerr=shap_values.std[:, y], \n",
    "        height=bar_width, label='True SHAP values', color='tab:gray')\n",
    "_ = plt.barh(np.arange(num_features) + bar_width*2, fastshap_values[:, y],\n",
    "        height=bar_width, label='FastSHAP', color='tab:green')\n",
    "_ = plt.barh(np.arange(num_features) + bar_width*3, kernel_shap_values,\n",
    "        height=bar_width, label='KernelSHAP @ {}'.format(kernelshap_iters), color='tab:red')\n",
    "_ = plt.barh(np.arange(num_features) + bar_width*4, orig_shap_values[0],\n",
    "            bar_width, label='KernleSHAP - SHAP pkg', color='tab:blue')\n",
    "\n",
    "# Annotations\n",
    "_ = plt.legend(fontsize=16)\n",
    "_ = plt.tick_params(labelsize=14)\n",
    "_ = plt.ylabel('SHAP Values', fontsize=16)\n",
    "_ = plt.title('Breast Cancer Diagnosis Explanation Example', fontsize=18)\n",
    "_ = plt.yticks(np.arange(num_features), feature_names, va='bottom')\n",
    "\n",
    "plt.grid(axis='y', linestyle='--')\n",
    "plt.tight_layout()\n",
    "plt.show()"
   ]
  },
  {
   "cell_type": "code",
   "execution_count": null,
   "id": "690bc038",
   "metadata": {},
   "outputs": [],
   "source": []
  },
  {
   "cell_type": "code",
   "execution_count": null,
   "id": "41eca04a",
   "metadata": {},
   "outputs": [],
   "source": []
  },
  {
   "cell_type": "code",
   "execution_count": null,
   "id": "fcd151d2",
   "metadata": {},
   "outputs": [],
   "source": []
  }
 ],
 "metadata": {
  "kernelspec": {
   "display_name": "Python 3 (ipykernel)",
   "language": "python",
   "name": "python3"
  },
  "language_info": {
   "codemirror_mode": {
    "name": "ipython",
    "version": 3
   },
   "file_extension": ".py",
   "mimetype": "text/x-python",
   "name": "python",
   "nbconvert_exporter": "python",
   "pygments_lexer": "ipython3",
   "version": "3.8.10"
  }
 },
 "nbformat": 4,
 "nbformat_minor": 5
}
